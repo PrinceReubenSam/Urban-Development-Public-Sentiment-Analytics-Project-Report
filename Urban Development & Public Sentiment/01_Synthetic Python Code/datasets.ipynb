{
 "cells": [
  {
   "cell_type": "code",
   "execution_count": 2,
   "id": "73f9bb58",
   "metadata": {},
   "outputs": [
    {
     "name": "stdout",
     "output_type": "stream",
     "text": [
      "Libraries imported successfully.\n"
     ]
    }
   ],
   "source": [
    "import pandas as pd\n",
    "import numpy as np\n",
    "import random\n",
    "from datetime import datetime, timedelta\n",
    "import zipfile\n",
    "import os\n",
    "\n",
    "print(\"Libraries imported successfully.\")\n"
   ]
  },
  {
   "cell_type": "code",
   "execution_count": 3,
   "id": "a7e1639e",
   "metadata": {},
   "outputs": [
    {
     "name": "stdout",
     "output_type": "stream",
     "text": [
      "Configuration parameters set.\n"
     ]
    }
   ],
   "source": [
    "# --- Configuration Parameters ---\n",
    "NUM_SIMULATED_USERS = 1000\n",
    "START_DATE = datetime(2025, 1, 1)\n",
    "END_DATE = datetime(2025, 12, 31)\n",
    "AVG_TOUCHPOINTS_PER_JOURNEY = (3, 7) # Min and Max range for touchpoints in a successful journey\n",
    "CONVERSION_RATE_RANGE = (0.05, 0.10) # 5% to 10% of users convert\n",
    "AVG_CONVERSION_VALUE_RANGE = (50, 200) # USD\n",
    "\n",
    "# --- Channel Configuration ---\n",
    "# 'paid': True/False - determines if a touchpoint generates a cost\n",
    "# 'cost_range': (min, max) - for paid channels, the cost per touchpoint\n",
    "# 'journey_stage_bias': weighting for when this channel typically appears (lower=earlier, higher=later)\n",
    "CHANNELS_CONFIG = {\n",
    "    'Organic Search': {'paid': False, 'journey_stage_bias': 0.7},\n",
    "    'Direct': {'paid': False, 'journey_stage_bias': 2.0},\n",
    "    'Email Campaign': {'paid': False, 'journey_stage_bias': 1.5},\n",
    "    'Website Blog': {'paid': False, 'journey_stage_bias': 0.8},\n",
    "    'Google CPC': {'paid': True, 'cost_range': (0.20, 1.50), 'journey_stage_bias': 1.8},\n",
    "    'Facebook Ad': {'paid': True, 'cost_range': (0.50, 2.00), 'journey_stage_bias': 1.2},\n",
    "    'LinkedIn Ad': {'paid': True, 'cost_range': (1.00, 3.50), 'journey_stage_bias': 1.6},\n",
    "    'Display Ad': {'paid': True, 'cost_range': (0.10, 0.80), 'journey_stage_bias': 1.0},\n",
    "    'Referral': {'paid': False, 'journey_stage_bias': 1.3},\n",
    "    'Organic Social': {'paid': False, 'journey_stage_bias': 0.9}\n",
    "}\n",
    "\n",
    "print(\"Configuration parameters set.\")\n"
   ]
  },
  {
   "cell_type": "code",
   "execution_count": 4,
   "id": "0729a376",
   "metadata": {},
   "outputs": [
    {
     "name": "stdout",
     "output_type": "stream",
     "text": [
      "Data generation complete. Generated 5023 touchpoints and 72 conversions.\n"
     ]
    }
   ],
   "source": [
    "all_touchpoints = []\n",
    "all_conversions = []\n",
    "transaction_id_counter = 1\n",
    "\n",
    "def get_random_timestamp(start, end):\n",
    "    \"\"\"Helper function to get a random timestamp within a range.\"\"\"\n",
    "    return start + timedelta(seconds=random.randint(0, int((end - start).total_seconds())))\n",
    "\n",
    "# Simulate user journeys\n",
    "for i in range(NUM_SIMULATED_USERS):\n",
    "    user_id = f'user_{i+1:04d}'\n",
    "    user_touchpoints = []\n",
    "    \n",
    "    # Decide if this user will convert\n",
    "    will_convert = random.random() < random.uniform(*CONVERSION_RATE_RANGE)\n",
    "    \n",
    "    # Simulate first touchpoint with a bias for early-stage channels\n",
    "    first_touch_channel_candidates = [c for c, props in CHANNELS_CONFIG.items() if props['journey_stage_bias'] < 1.0]\n",
    "    first_touch_channel = random.choice(first_touch_channel_candidates if first_touch_channel_candidates else list(CHANNELS_CONFIG.keys()))\n",
    "    \n",
    "    # A user's journey can start anytime, leaving at least 30 days for the journey to unfold\n",
    "    user_journey_start = get_random_timestamp(START_DATE, END_DATE - timedelta(days=30))\n",
    "    \n",
    "    user_touchpoints.append({\n",
    "        'UserID': user_id,\n",
    "        'Timestamp': user_journey_start,\n",
    "        'Channel': first_touch_channel,\n",
    "        'Cost': random.uniform(*CHANNELS_CONFIG[first_touch_channel]['cost_range']) if CHANNELS_CONFIG[first_touch_channel]['paid'] else 0.0\n",
    "    })\n",
    "\n",
    "    # Simulate subsequent touchpoints\n",
    "    num_subsequent_touchpoints = random.randint(*AVG_TOUCHPOINTS_PER_JOURNEY) - 1\n",
    "    \n",
    "    for _ in range(num_subsequent_touchpoints):\n",
    "        last_tp_time = user_touchpoints[-1]['Timestamp']\n",
    "        time_gap_days = random.uniform(0.1, 5) # Time gap from a few hours to 5 days\n",
    "        next_tp_time = last_tp_time + timedelta(days=time_gap_days)\n",
    "        \n",
    "        if next_tp_time > END_DATE:\n",
    "            break\n",
    "            \n",
    "        selected_channel = random.choice(list(CHANNELS_CONFIG.keys()))\n",
    "        \n",
    "        user_touchpoints.append({\n",
    "            'UserID': user_id,\n",
    "            'Timestamp': next_tp_time,\n",
    "            'Channel': selected_channel,\n",
    "            'Cost': random.uniform(*CHANNELS_CONFIG[selected_channel]['cost_range']) if CHANNELS_CONFIG[selected_channel]['paid'] else 0.0\n",
    "        })\n",
    "        \n",
    "    user_touchpoints.sort(key=lambda x: x['Timestamp'])\n",
    "\n",
    "    # Process conversion if applicable\n",
    "    if will_convert and user_touchpoints:\n",
    "        last_tp_time = user_touchpoints[-1]['Timestamp']\n",
    "        conversion_time = last_tp_time + timedelta(days=random.uniform(0.1, 3))\n",
    "        \n",
    "        if conversion_time <= END_DATE:\n",
    "            conversion_value = random.uniform(*AVG_CONVERSION_VALUE_RANGE)\n",
    "            all_conversions.append({\n",
    "                'TransactionID': f'TRN{transaction_id_counter:05d}',\n",
    "                'UserID': user_id,\n",
    "                'Timestamp': conversion_time,\n",
    "                'ConversionValue': round(conversion_value, 2)\n",
    "            })\n",
    "            transaction_id_counter += 1\n",
    "            all_touchpoints.extend(user_touchpoints)\n",
    "    else: # Also include non-converting journeys in the touchpoint data\n",
    "        all_touchpoints.extend(user_touchpoints)\n",
    "\n",
    "print(f\"Data generation complete. Generated {len(all_touchpoints)} touchpoints and {len(all_conversions)} conversions.\")\n"
   ]
  },
  {
   "cell_type": "code",
   "execution_count": 7,
   "id": "e661ae04",
   "metadata": {},
   "outputs": [
    {
     "name": "stdout",
     "output_type": "stream",
     "text": [
      "DataFrames are ready for export.\n",
      "Exporting data to temporary CSV files...\n",
      "Temporary CSV files created.\n",
      "Creating ZIP archive: attribution_dataset.zip...\n",
      "ZIP archive created successfully.\n",
      "Cleaning up temporary CSV files...\n",
      "Cleanup complete.\n",
      "\n",
      "✅ Success! Your dataset is ready in the file 'attribution_dataset.zip'\n",
      "You can find this ZIP file in the VS Code Explorer panel.\n"
     ]
    }
   ],
   "source": [
    "# Create main DataFrames\n",
    "df_all_touchpoints = pd.DataFrame(all_touchpoints)\n",
    "df_all_conversions = pd.DataFrame(all_conversions)\n",
    "\n",
    "# Separate touchpoints into paid vs. unpaid sources for our simulation\n",
    "df_web_analytics_touchpoints = df_all_touchpoints[~df_all_touchpoints['Channel'].isin([c for c, p in CHANNELS_CONFIG.items() if p['paid']])].copy()\n",
    "df_ad_platforms_touchpoints = df_all_touchpoints[df_all_touchpoints['Channel'].isin([c for c, p in CHANNELS_CONFIG.items() if p['paid']])].copy()\n",
    "\n",
    "# Finalize DataFrames for CSV export (selecting and renaming columns)\n",
    "df_web_analytics_out = df_web_analytics_touchpoints[['UserID', 'Timestamp', 'Channel']]\n",
    "df_web_analytics_out = df_web_analytics_out.rename(columns={'Timestamp': 'TouchpointTimestamp'})\n",
    "\n",
    "df_ad_platforms_out = df_ad_platforms_touchpoints[['UserID', 'Timestamp', 'Channel', 'Cost']]\n",
    "df_ad_platforms_out = df_ad_platforms_out.rename(columns={'Timestamp': 'TouchpointTimestamp'})\n",
    "df_ad_platforms_out['Cost'] = df_ad_platforms_out['Cost'].round(2)\n",
    "\n",
    "df_crm_conversions_out = df_all_conversions[['TransactionID', 'UserID', 'Timestamp', 'ConversionValue']]\n",
    "df_crm_conversions_out = df_crm_conversions_out.rename(columns={'Timestamp': 'ConversionTimestamp'})\n",
    "\n",
    "print(\"DataFrames are ready for export.\")\n",
    "df_crm_conversions_out.head() # Display a preview of the conversions data```\n",
    "\n",
    "\n",
    "#### **Cell 6: (Code) - Step 5: Export CSVs and Create ZIP File**\n",
    "\n",
    "#```python\n",
    "# --- Define filenames ---\n",
    "csv_web_analytics = 'sim_touchpoints_web_analytics.csv'\n",
    "csv_ad_platforms = 'sim_touchpoints_ad_platforms.csv'\n",
    "csv_crm_conversions = 'sim_crm_conversions.csv'\n",
    "zip_filename = 'attribution_dataset.zip'\n",
    "\n",
    "csv_files_to_zip = [csv_web_analytics, csv_ad_platforms, csv_crm_conversions]\n",
    "\n",
    "# --- Export to temporary CSV files ---\n",
    "print(\"Exporting data to temporary CSV files...\")\n",
    "df_web_analytics_out.to_csv(csv_web_analytics, index=False)\n",
    "df_ad_platforms_out.to_csv(csv_ad_platforms, index=False)\n",
    "df_crm_conversions_out.to_csv(csv_crm_conversions, index=False)\n",
    "print(\"Temporary CSV files created.\")\n",
    "\n",
    "# --- Package into a ZIP file ---\n",
    "print(f\"Creating ZIP archive: {zip_filename}...\")\n",
    "with zipfile.ZipFile(zip_filename, 'w', zipfile.ZIP_DEFLATED) as zipf:\n",
    "    for file in csv_files_to_zip:\n",
    "        zipf.write(file)\n",
    "print(\"ZIP archive created successfully.\")\n",
    "\n",
    "# --- Clean up individual CSV files ---\n",
    "print(\"Cleaning up temporary CSV files...\")\n",
    "for file in csv_files_to_zip:\n",
    "    os.remove(file)\n",
    "print(\"Cleanup complete.\")\n",
    "\n",
    "print(f\"\\n✅ Success! Your dataset is ready in the file '{zip_filename}'\")\n",
    "print(f\"You can find this ZIP file in the VS Code Explorer panel.\")\n"
   ]
  },
  {
   "cell_type": "code",
   "execution_count": null,
   "id": "67714fc6",
   "metadata": {},
   "outputs": [],
   "source": []
  }
 ],
 "metadata": {
  "kernelspec": {
   "display_name": "Python 3",
   "language": "python",
   "name": "python3"
  },
  "language_info": {
   "codemirror_mode": {
    "name": "ipython",
    "version": 3
   },
   "file_extension": ".py",
   "mimetype": "text/x-python",
   "name": "python",
   "nbconvert_exporter": "python",
   "pygments_lexer": "ipython3",
   "version": "3.13.6"
  }
 },
 "nbformat": 4,
 "nbformat_minor": 5
}
